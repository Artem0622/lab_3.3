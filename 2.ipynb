{
 "cells": [
  {
   "cell_type": "markdown",
   "id": "1cefdbef",
   "metadata": {},
   "source": [
    "## Матричный метод"
   ]
  },
  {
   "cell_type": "markdown",
   "id": "dacff2d0",
   "metadata": {},
   "source": [
    "Матричный метод может применяться в решении систем линейных уравнений, в которых число неизвестных равно числу уравнений, то есть систем линейных уравнений с квадратной матрицей коэффициентов при неизвестных.\n",
    "Решение системы линейных алгебраических уравнений по матричному методу определяется равенством:\n",
    "$$ X = A^{-1} * B $$\n"
   ]
  },
  {
   "attachments": {},
   "cell_type": "markdown",
   "id": "440d29a4",
   "metadata": {},
   "source": [
    "Где\n",
    "$$\n",
    "{A} = \n",
    "\\left\\lgroup\\begin{matrix}\n",
    "a_{11} & a_{12} & ... & a_{1n} \\cr\n",
    "a_{21} & a_{22} & ... & a_{2n} \\cr\n",
    "a_{n1} & a_{n2} & ... & a_{nn}\n",
    "\\end{matrix}\\right\\rgroup - матрица системы\n",
    "$$\n",
    "$$\n",
    "{X} = \n",
    "\\left\\lgroup\\begin{matrix}\n",
    "x_{1} \\cr\n",
    "x_{2} \\cr\n",
    "... \\cr\n",
    "x_{n}\n",
    "\\end{matrix}\\right\\rgroup - столбец неизвестных\n",
    "$$\n",
    "$$\n",
    "{B} = \n",
    "\\left\\lgroup\\begin{matrix}\n",
    "b_{1} \\cr\n",
    "b_{2} \\cr\n",
    "... \\cr\n",
    "b_{n}\n",
    "\\end{matrix}\\right\\rgroup - столбец свободных коэффициентов\n",
    "$$"
   ]
  },
  {
   "cell_type": "markdown",
   "id": "9d72b69c",
   "metadata": {},
   "source": [
    "В  случае, если определитель A не равен нулю, то у системы имеется только один вариант решения: при помощи метода обратной матрицы. Если определитель A = 0, то систему нельзя решить данным методом."
   ]
  },
  {
   "cell_type": "code",
   "execution_count": 39,
   "id": "6c96120b",
   "metadata": {},
   "outputs": [
    {
     "name": "stdout",
     "output_type": "stream",
     "text": [
      "Матрица A:\n",
      " [[ 9  9 -5]\n",
      " [-2 -9  2]\n",
      " [ 5  4 -1]]\n",
      "\n",
      "Столбец свободных коэффициентов B:\n",
      " [[-7]\n",
      " [ 1]\n",
      " [ 3]]\n"
     ]
    }
   ],
   "source": [
    "import numpy as np\n",
    "\n",
    "A = np.random.randint(-10,10,(3,3))\n",
    "B = np.random.randint(-10,10,(3,1))\n",
    "\n",
    "print(\"Матрица A:\\n\", A)\n",
    "print(\"\\nСтолбец свободных коэффициентов B:\\n\", B)"
   ]
  },
  {
   "cell_type": "code",
   "execution_count": 40,
   "id": "21df65e0",
   "metadata": {},
   "outputs": [
    {
     "name": "stdout",
     "output_type": "stream",
     "text": [
      "X =\n",
      " [[0.95192308]\n",
      " [0.61538462]\n",
      " [4.22115385]]\n"
     ]
    }
   ],
   "source": [
    "A_det = np.linalg.det(A)  # Определитель A\n",
    "\n",
    "if A_det != 0:\n",
    "    # Находим обратную и присоединенную матрицу\n",
    "    A_inv = np.linalg.inv(A)\n",
    "    R = A_inv.dot(B)\n",
    "    print(\"X =\\n\", R)\n",
    "    \n",
    "else:\n",
    "    print(\"Определитель равен 0, систему решить нельзя\")"
   ]
  },
  {
   "cell_type": "markdown",
   "id": "7d27535a",
   "metadata": {},
   "source": [
    "## Метод Крамера"
   ]
  },
  {
   "cell_type": "markdown",
   "id": "4de77aba",
   "metadata": {},
   "source": [
    "Метод Крамера предназначен для того, чтобы решать системы линейных алгебраических уравнений (СЛАУ), в которых число неизвестных переменных равняется числу уравнений, а определитель основной матрицы не равен нулю, то есть матрица невырожденная."
   ]
  },
  {
   "cell_type": "markdown",
   "id": "fd37fd7e",
   "metadata": {},
   "source": [
    "Формулы для нахождения неизвестных переменных по методу Крамера:\n",
    "\n",
    "$\n",
    "x_1 = \\frac{\\triangle_1}{\\triangle},\n",
    "$\n",
    "\n",
    "$\n",
    "x_2 = \\frac{\\triangle_2}{\\triangle},\n",
    "$\n",
    "\n",
    "$\n",
    "x_{3} = \\frac{\\triangle_3}{\\triangle}.\n",
    "$"
   ]
  },
  {
   "cell_type": "code",
   "execution_count": 41,
   "id": "0b5ece3f",
   "metadata": {},
   "outputs": [
    {
     "name": "stdout",
     "output_type": "stream",
     "text": [
      "Матрица A:\n",
      " [[ 3 -4  3]\n",
      " [-3  7  7]\n",
      " [-4 -9  7]]\n",
      "\n",
      "Столбец свободных коэффициентов B:\n",
      " [[-7]\n",
      " [-8]\n",
      " [-9]]\n"
     ]
    }
   ],
   "source": [
    "import numpy as np\n",
    "\n",
    "A = np.random.randint(-10,10,(3,3))\n",
    "B = np.random.randint(-10,10,(3,1))\n",
    "\n",
    "print(\"Матрица A:\\n\", A)\n",
    "print(\"\\nСтолбец свободных коэффициентов B:\\n\", B)"
   ]
  },
  {
   "cell_type": "code",
   "execution_count": 43,
   "id": "ad2f4a40",
   "metadata": {},
   "outputs": [
    {
     "name": "stdout",
     "output_type": "stream",
     "text": [
      "x1 =  -0.664 \n",
      "x2 =  0.104 \n",
      "x3 =  -1.531\n"
     ]
    }
   ],
   "source": [
    "A_det  = np.linalg.det(A)  # Определитель A\n",
    "\n",
    "if A_det != 0:\n",
    "    # Найдем неизветсные переменные по методу Крамера\n",
    "    det_1 = A.copy() \n",
    "    det_1 [:, 0] = B[:, 0] \n",
    "    x1 = np.linalg.det(det_1) / A_det\n",
    "    \n",
    "    det_2 = A.copy()  \n",
    "    det_2[:, 1] = B[:, 0] \n",
    "    x2 = np.linalg.det(det_2) / A_det\n",
    "    \n",
    "    det_3 = A.copy() \n",
    "    det_3[:, 2] = B[:, 0] \n",
    "    x3 = np.linalg.det(det_3) / A_det\n",
    "   \n",
    "    print(\"x1 = \", round(x1,3), \"\\nx2 = \", round(x2,3), \"\\nx3 = \", round(x3,3))\n",
    "else:\n",
    "    print(\"Определитель равен 0, то есть матрица вырожденная и нельяз решить данным методом\")"
   ]
  }
 ],
 "metadata": {
  "kernelspec": {
   "display_name": "Python 3 (ipykernel)",
   "language": "python",
   "name": "python3"
  },
  "language_info": {
   "codemirror_mode": {
    "name": "ipython",
    "version": 3
   },
   "file_extension": ".py",
   "mimetype": "text/x-python",
   "name": "python",
   "nbconvert_exporter": "python",
   "pygments_lexer": "ipython3",
   "version": "3.9.12"
  }
 },
 "nbformat": 4,
 "nbformat_minor": 5
}
